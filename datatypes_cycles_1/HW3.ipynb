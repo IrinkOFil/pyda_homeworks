{
 "cells": [
  {
   "cell_type": "code",
   "execution_count": 9,
   "metadata": {
    "colab": {
     "base_uri": "https://localhost:8080/"
    },
    "id": "NwtNbKGHAnBS",
    "outputId": "b3862e93-91dd-4994-efea-54c3cc47451b"
   },
   "outputs": [
    {
     "name": "stdout",
     "output_type": "stream",
     "text": [
      "t\n"
     ]
    }
   ],
   "source": [
    "#Задание 1\n",
    "word = 'testing'\n",
    "length = len(word)\n",
    "center = int(length / 2)\n",
    "if length % 2 == 0:\n",
    "  print (word[center-1:center+1])\n",
    "else:\n",
    "  print (word[center])"
   ]
  },
  {
   "cell_type": "code",
   "execution_count": 12,
   "metadata": {
    "colab": {
     "base_uri": "https://localhost:8080/"
    },
    "id": "OhUrcRHubnUE",
    "outputId": "ab1747da-159b-47ce-d00c-e5d25f11bab7"
   },
   "outputs": [
    {
     "name": "stdout",
     "output_type": "stream",
     "text": [
      "Введите число:0\n",
      "0\n"
     ]
    }
   ],
   "source": [
    "#Задание 2\n",
    "x = []\n",
    "y = []\n",
    "while x != 0:\n",
    "  x = int(input('Введите число:'))\n",
    "  y.append(x)\n",
    "\n",
    "print (sum(y))"
   ]
  },
  {
   "cell_type": "code",
   "execution_count": 13,
   "metadata": {
    "colab": {
     "base_uri": "https://localhost:8080/"
    },
    "id": "0Xclio4yy0x7",
    "outputId": "0fcc74b5-9495-4a62-e925-450f70eafa1b"
   },
   "outputs": [
    {
     "name": "stdout",
     "output_type": "stream",
     "text": [
      "Внимание, кто-то может остаться без пары!\n"
     ]
    }
   ],
   "source": [
    "#Задание 3\n",
    "boys = ['Peter', 'Alex', 'John', 'Arthur', 'Richard', 'Michael']\n",
    "girls = ['Kate', 'Liza', 'Kira', 'Emma', 'Trisha']\n",
    "x = sorted(boys)\n",
    "y = sorted(girls)\n",
    "if len(boys) == len(girls):\n",
    "  print('Идеальные пары:')\n",
    "  print(x[0], 'и', y[0])\n",
    "  print(x[1], 'и', y[1])\n",
    "  print(x[2], 'и', y[2])\n",
    "  print(x[3], 'и', y[3])\n",
    "  print(x[4], 'и', y[4])\n",
    "else:\n",
    "  print('Внимание, кто-то может остаться без пары!')"
   ]
  },
  {
   "cell_type": "code",
   "execution_count": 25,
   "metadata": {
    "colab": {
     "base_uri": "https://localhost:8080/"
    },
    "id": "d7SXFsbn3Coo",
    "outputId": "98844977-7af4-430e-fab0-eb613f158394"
   },
   "outputs": [
    {
     "name": "stdout",
     "output_type": "stream",
     "text": [
      "Средняя температура в странах:\n",
      "Thailand - 23.9 C\n",
      "Germany - 13.8 C\n",
      "Russia - 3.7 C\n",
      "Poland - 12.0 C\n"
     ]
    }
   ],
   "source": [
    "#Задание 4\n",
    "countries_temperature = [\n",
    "['Thailand', [75.2, 77, 78.8, 73.4, 68, 75.2, 77]],\n",
    "['Germany', [57.2, 55.4, 59, 59, 53.6]],\n",
    "['Russia', [35.6, 37.4, 39.2, 41, 42.8, 39.2, 35.6]],\n",
    "['Poland', [50, 50, 53.6, 57.2, 55.4, 55.4]]\n",
    "]\n",
    "print('Средняя температура в странах:')\n",
    "print(countries_temperature[0][0], '-', round(5.0*((sum(countries_temperature[0][1]) / len(countries_temperature[0][1])) - 32) / 9, 1), 'C')\n",
    "print(countries_temperature[1][0], '-', round(5.0*((sum(countries_temperature[1][1]) / len(countries_temperature[1][1])) - 32) / 9, 1), 'C')\n",
    "print(countries_temperature[2][0], '-', round(5.0*((sum(countries_temperature[2][1]) / len(countries_temperature[2][1])) - 32) / 9, 1), 'C')\n",
    "print(countries_temperature[3][0], '-', round(5.0*((sum(countries_temperature[3][1]) / len(countries_temperature[3][1])) - 32) / 9, 1), 'C')"
   ]
  },
  {
   "cell_type": "code",
   "execution_count": 59,
   "metadata": {
    "colab": {
     "base_uri": "https://localhost:8080/"
    },
    "id": "kGQiJqChCU5e",
    "outputId": "f1a4265c-1046-4505-ace2-efd25bc08827"
   },
   "outputs": [
    {
     "name": "stdout",
     "output_type": "stream",
     "text": [
      "Среднее количество просмотров на уникального пользователя:  145.33\n"
     ]
    }
   ],
   "source": [
    "#Задание 5\n",
    "stream = [\n",
    "'2018-01-01,user100,150',\n",
    "'2018-01-07,user99,205',\n",
    "'2018-03-29,user1001,81'\n",
    "]\n",
    "stream_list = []\n",
    "for element in stream:\n",
    "  stream_list.append(element.split(','))\n",
    "unique_users = []\n",
    "for user in stream_list:\n",
    "  if user[1] not in unique_users:\n",
    "    unique_users.append(user[1])\n",
    "print('Среднее количество просмотров на уникального пользователя: ', round(sum(int(element[2]) for element in stream_list)/len(unique_users), 2))"
   ]
  },
  {
   "cell_type": "code",
   "execution_count": 10,
   "metadata": {
    "colab": {
     "base_uri": "https://localhost:8080/"
    },
    "id": "gyUB74u-dWvA",
    "outputId": "6decdea4-c1b0-456a-a69a-a7fd1c431659"
   },
   "outputs": [
    {
     "name": "stdout",
     "output_type": "stream",
     "text": [
      "Введите числа:6 9 2 6 9 2 3 4 3 5 4\n",
      "2 3 4 6 9\n"
     ]
    }
   ],
   "source": [
    "#Задание 6\n",
    "numbers = input('Введите числа:')\n",
    "num = numbers.split()\n",
    "my_numbers = []\n",
    "for i in num:\n",
    "    if num.count(i) > 1 and i not in my_numbers:\n",
    "       my_numbers.append(i)\n",
    "print(' '.join(sorted(my_numbers)))\n"
   ]
  }
 ],
 "metadata": {
  "colab": {
   "name": "ДЗ2_Филиппова.ipynb",
   "provenance": []
  },
  "kernelspec": {
   "display_name": "Python 3 (ipykernel)",
   "language": "python",
   "name": "python3"
  },
  "language_info": {
   "codemirror_mode": {
    "name": "ipython",
    "version": 3
   },
   "file_extension": ".py",
   "mimetype": "text/x-python",
   "name": "python",
   "nbconvert_exporter": "python",
   "pygments_lexer": "ipython3",
   "version": "3.9.7"
  }
 },
 "nbformat": 4,
 "nbformat_minor": 1
}
